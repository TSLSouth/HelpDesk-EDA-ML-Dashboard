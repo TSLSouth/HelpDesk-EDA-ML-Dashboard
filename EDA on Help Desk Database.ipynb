{
 "cells": [
  {
   "cell_type": "markdown",
   "metadata": {},
   "source": [
    "# EDA on Help Desk Database\n",
    "-----\n",
    "\n",
    "This database is from Kaggle site and contains the following **features**:\n",
    "- ticket = ticket id\n",
    "- requestor\t= applicant id\n",
    "- RequestorSeniority = 1 - Junior, 2 - Regular, 3 - Senior or 4 - Management \n",
    "- ITOwner = owner/responsible id\t\n",
    "- FiledAgainst = issue area\n",
    "- TicketType = Issue or Request\n",
    "- Severity = 1 - Minor, 2 - Normal, 3 - Major or 4 - Critical\n",
    "- Priority = assigned priority: 0 - Unassigned, 1 - Low, 2 - Medium or 3 - High\n",
    "- daysOpen = how many days it's open\n",
    "- Satisfaction = 0 - Unknown, 1 - Unsatisfied, 2 - Satisfied or 3 - Highly satisfied\n",
    "\n",
    "**Goal:** this is just a initial Exploratory Data Analysis to try to catch some correlations betweens features to understand more the business.\n",
    "\n",
    "**Tools:** python, jupiternotebook, numpy, pandas, matplotlib, seaborn."
   ]
  },
  {
   "cell_type": "code",
   "execution_count": 1,
   "metadata": {},
   "outputs": [],
   "source": [
    "#importing usual libraries\n",
    "\n",
    "import numpy as np \n",
    "import pandas as pd \n",
    "import matplotlib.pyplot as plt \n",
    "import seaborn as sns\n",
    "import plotly.graph_objects as go"
   ]
  },
  {
   "cell_type": "code",
   "execution_count": 2,
   "metadata": {},
   "outputs": [
    {
     "data": {
      "text/html": [
       "<div>\n",
       "<style scoped>\n",
       "    .dataframe tbody tr th:only-of-type {\n",
       "        vertical-align: middle;\n",
       "    }\n",
       "\n",
       "    .dataframe tbody tr th {\n",
       "        vertical-align: top;\n",
       "    }\n",
       "\n",
       "    .dataframe thead th {\n",
       "        text-align: right;\n",
       "    }\n",
       "</style>\n",
       "<table border=\"1\" class=\"dataframe\">\n",
       "  <thead>\n",
       "    <tr style=\"text-align: right;\">\n",
       "      <th></th>\n",
       "      <th>ticket</th>\n",
       "      <th>requestor</th>\n",
       "      <th>RequestorSeniority</th>\n",
       "      <th>ITOwner</th>\n",
       "      <th>FiledAgainst</th>\n",
       "      <th>TicketType</th>\n",
       "      <th>Severity</th>\n",
       "      <th>Priority</th>\n",
       "      <th>daysOpen</th>\n",
       "      <th>Satisfaction</th>\n",
       "    </tr>\n",
       "  </thead>\n",
       "  <tbody>\n",
       "    <tr>\n",
       "      <th>0</th>\n",
       "      <td>1</td>\n",
       "      <td>1929</td>\n",
       "      <td>1 - Junior</td>\n",
       "      <td>50</td>\n",
       "      <td>Systems</td>\n",
       "      <td>Issue</td>\n",
       "      <td>2 - Normal</td>\n",
       "      <td>0 - Unassigned</td>\n",
       "      <td>3</td>\n",
       "      <td>1 - Unsatisfied</td>\n",
       "    </tr>\n",
       "    <tr>\n",
       "      <th>1</th>\n",
       "      <td>2</td>\n",
       "      <td>1587</td>\n",
       "      <td>2 - Regular</td>\n",
       "      <td>15</td>\n",
       "      <td>Software</td>\n",
       "      <td>Request</td>\n",
       "      <td>1 - Minor</td>\n",
       "      <td>1 - Low</td>\n",
       "      <td>5</td>\n",
       "      <td>1 - Unsatisfied</td>\n",
       "    </tr>\n",
       "    <tr>\n",
       "      <th>2</th>\n",
       "      <td>3</td>\n",
       "      <td>925</td>\n",
       "      <td>2 - Regular</td>\n",
       "      <td>15</td>\n",
       "      <td>Access/Login</td>\n",
       "      <td>Request</td>\n",
       "      <td>2 - Normal</td>\n",
       "      <td>0 - Unassigned</td>\n",
       "      <td>0</td>\n",
       "      <td>0 - Unknown</td>\n",
       "    </tr>\n",
       "    <tr>\n",
       "      <th>3</th>\n",
       "      <td>4</td>\n",
       "      <td>413</td>\n",
       "      <td>4 - Management</td>\n",
       "      <td>22</td>\n",
       "      <td>Systems</td>\n",
       "      <td>Request</td>\n",
       "      <td>2 - Normal</td>\n",
       "      <td>0 - Unassigned</td>\n",
       "      <td>20</td>\n",
       "      <td>0 - Unknown</td>\n",
       "    </tr>\n",
       "    <tr>\n",
       "      <th>4</th>\n",
       "      <td>5</td>\n",
       "      <td>318</td>\n",
       "      <td>1 - Junior</td>\n",
       "      <td>22</td>\n",
       "      <td>Access/Login</td>\n",
       "      <td>Request</td>\n",
       "      <td>2 - Normal</td>\n",
       "      <td>1 - Low</td>\n",
       "      <td>1</td>\n",
       "      <td>1 - Unsatisfied</td>\n",
       "    </tr>\n",
       "  </tbody>\n",
       "</table>\n",
       "</div>"
      ],
      "text/plain": [
       "   ticket  requestor RequestorSeniority  ITOwner  FiledAgainst TicketType  \\\n",
       "0       1       1929         1 - Junior       50       Systems      Issue   \n",
       "1       2       1587        2 - Regular       15      Software    Request   \n",
       "2       3        925        2 - Regular       15  Access/Login    Request   \n",
       "3       4        413     4 - Management       22       Systems    Request   \n",
       "4       5        318         1 - Junior       22  Access/Login    Request   \n",
       "\n",
       "     Severity        Priority  daysOpen     Satisfaction  \n",
       "0  2 - Normal  0 - Unassigned         3  1 - Unsatisfied  \n",
       "1   1 - Minor         1 - Low         5  1 - Unsatisfied  \n",
       "2  2 - Normal  0 - Unassigned         0      0 - Unknown  \n",
       "3  2 - Normal  0 - Unassigned        20      0 - Unknown  \n",
       "4  2 - Normal         1 - Low         1  1 - Unsatisfied  "
      ]
     },
     "execution_count": 2,
     "metadata": {},
     "output_type": "execute_result"
    }
   ],
   "source": [
    "#looking what we have in the data frame\n",
    "\n",
    "df = pd.read_csv('WA_Fn-UseC_-IT-Help-Desk.csv')\n",
    "df.head(5)"
   ]
  },
  {
   "cell_type": "code",
   "execution_count": 3,
   "metadata": {},
   "outputs": [
    {
     "name": "stdout",
     "output_type": "stream",
     "text": [
      "<class 'pandas.core.frame.DataFrame'>\n",
      "RangeIndex: 100000 entries, 0 to 99999\n",
      "Data columns (total 10 columns):\n",
      " #   Column              Non-Null Count   Dtype \n",
      "---  ------              --------------   ----- \n",
      " 0   ticket              100000 non-null  int64 \n",
      " 1   requestor           100000 non-null  int64 \n",
      " 2   RequestorSeniority  100000 non-null  object\n",
      " 3   ITOwner             100000 non-null  int64 \n",
      " 4   FiledAgainst        100000 non-null  object\n",
      " 5   TicketType          100000 non-null  object\n",
      " 6   Severity            100000 non-null  object\n",
      " 7   Priority            100000 non-null  object\n",
      " 8   daysOpen            100000 non-null  int64 \n",
      " 9   Satisfaction        100000 non-null  object\n",
      "dtypes: int64(4), object(6)\n",
      "memory usage: 7.6+ MB\n"
     ]
    }
   ],
   "source": [
    "#info\n",
    "\n",
    "df.info()"
   ]
  },
  {
   "cell_type": "code",
   "execution_count": 4,
   "metadata": {},
   "outputs": [],
   "source": [
    "#transformming categorical attributes\n",
    "\n",
    "df['RequestorSeniority'].replace(to_replace='1 - Junior',value=1,inplace=True)\n",
    "df['RequestorSeniority'].replace(to_replace='2 - Regular',value=2,inplace=True)\n",
    "df['RequestorSeniority'].replace(to_replace='3 - Senior',value=3,inplace=True)\n",
    "df['RequestorSeniority'].replace(to_replace='4 - Management',value=4,inplace=True)\n",
    "\n",
    "df['Severity'].replace(to_replace='0 - Minor',value=0,inplace=True)\n",
    "df['Severity'].replace(to_replace='1 - Normal',value=1,inplace=True)\n",
    "df['Severity'].replace(to_replace='2 - Major',value=2,inplace=True)\n",
    "df['Severity'].replace(to_replace='3 - Critical',value=3,inplace=True)\n",
    "\n",
    "df['Priority'].replace(to_replace='0 - Unassigned',value=0,inplace=True)\n",
    "df['Priority'].replace(to_replace='1 - Low',value=1,inplace=True)\n",
    "df['Priority'].replace(to_replace='2 - Medium',value=2,inplace=True)\n",
    "df['Priority'].replace(to_replace='3 - High',value=3,inplace=True)\n",
    "\n",
    "df['Satisfaction'].replace(to_replace='0 - Unknown',value=0,inplace=True)\n",
    "df['Satisfaction'].replace(to_replace='1 - Unsatisfied',value=1,inplace=True)\n",
    "df['Satisfaction'].replace(to_replace='2 - Satisfied',value=2,inplace=True)\n",
    "df['Satisfaction'].replace(to_replace='3 - Highly satisfied',value=3,inplace=True)"
   ]
  },
  {
   "cell_type": "code",
   "execution_count": 5,
   "metadata": {},
   "outputs": [
    {
     "data": {
      "text/html": [
       "<div>\n",
       "<style scoped>\n",
       "    .dataframe tbody tr th:only-of-type {\n",
       "        vertical-align: middle;\n",
       "    }\n",
       "\n",
       "    .dataframe tbody tr th {\n",
       "        vertical-align: top;\n",
       "    }\n",
       "\n",
       "    .dataframe thead th {\n",
       "        text-align: right;\n",
       "    }\n",
       "</style>\n",
       "<table border=\"1\" class=\"dataframe\">\n",
       "  <thead>\n",
       "    <tr style=\"text-align: right;\">\n",
       "      <th></th>\n",
       "      <th>ticket</th>\n",
       "      <th>requestor</th>\n",
       "      <th>RequestorSeniority</th>\n",
       "      <th>ITOwner</th>\n",
       "      <th>FiledAgainst</th>\n",
       "      <th>TicketType</th>\n",
       "      <th>Severity</th>\n",
       "      <th>Priority</th>\n",
       "      <th>daysOpen</th>\n",
       "      <th>Satisfaction</th>\n",
       "    </tr>\n",
       "  </thead>\n",
       "  <tbody>\n",
       "    <tr>\n",
       "      <th>0</th>\n",
       "      <td>1</td>\n",
       "      <td>1929</td>\n",
       "      <td>1</td>\n",
       "      <td>50</td>\n",
       "      <td>Systems</td>\n",
       "      <td>Issue</td>\n",
       "      <td>2 - Normal</td>\n",
       "      <td>0</td>\n",
       "      <td>3</td>\n",
       "      <td>1</td>\n",
       "    </tr>\n",
       "    <tr>\n",
       "      <th>1</th>\n",
       "      <td>2</td>\n",
       "      <td>1587</td>\n",
       "      <td>2</td>\n",
       "      <td>15</td>\n",
       "      <td>Software</td>\n",
       "      <td>Request</td>\n",
       "      <td>1 - Minor</td>\n",
       "      <td>1</td>\n",
       "      <td>5</td>\n",
       "      <td>1</td>\n",
       "    </tr>\n",
       "    <tr>\n",
       "      <th>2</th>\n",
       "      <td>3</td>\n",
       "      <td>925</td>\n",
       "      <td>2</td>\n",
       "      <td>15</td>\n",
       "      <td>Access/Login</td>\n",
       "      <td>Request</td>\n",
       "      <td>2 - Normal</td>\n",
       "      <td>0</td>\n",
       "      <td>0</td>\n",
       "      <td>0</td>\n",
       "    </tr>\n",
       "    <tr>\n",
       "      <th>3</th>\n",
       "      <td>4</td>\n",
       "      <td>413</td>\n",
       "      <td>4</td>\n",
       "      <td>22</td>\n",
       "      <td>Systems</td>\n",
       "      <td>Request</td>\n",
       "      <td>2 - Normal</td>\n",
       "      <td>0</td>\n",
       "      <td>20</td>\n",
       "      <td>0</td>\n",
       "    </tr>\n",
       "    <tr>\n",
       "      <th>4</th>\n",
       "      <td>5</td>\n",
       "      <td>318</td>\n",
       "      <td>1</td>\n",
       "      <td>22</td>\n",
       "      <td>Access/Login</td>\n",
       "      <td>Request</td>\n",
       "      <td>2 - Normal</td>\n",
       "      <td>1</td>\n",
       "      <td>1</td>\n",
       "      <td>1</td>\n",
       "    </tr>\n",
       "  </tbody>\n",
       "</table>\n",
       "</div>"
      ],
      "text/plain": [
       "   ticket  requestor  RequestorSeniority  ITOwner  FiledAgainst TicketType  \\\n",
       "0       1       1929                   1       50       Systems      Issue   \n",
       "1       2       1587                   2       15      Software    Request   \n",
       "2       3        925                   2       15  Access/Login    Request   \n",
       "3       4        413                   4       22       Systems    Request   \n",
       "4       5        318                   1       22  Access/Login    Request   \n",
       "\n",
       "     Severity  Priority  daysOpen  Satisfaction  \n",
       "0  2 - Normal         0         3             1  \n",
       "1   1 - Minor         1         5             1  \n",
       "2  2 - Normal         0         0             0  \n",
       "3  2 - Normal         0        20             0  \n",
       "4  2 - Normal         1         1             1  "
      ]
     },
     "execution_count": 5,
     "metadata": {},
     "output_type": "execute_result"
    }
   ],
   "source": [
    "df.head(5)"
   ]
  },
  {
   "cell_type": "code",
   "execution_count": 61,
   "metadata": {},
   "outputs": [
    {
     "data": {
      "text/plain": [
       "<AxesSubplot:>"
      ]
     },
     "execution_count": 61,
     "metadata": {},
     "output_type": "execute_result"
    },
    {
     "data": {
      "image/png": "[encoded data removed]",
      "text/plain": [
       "<Figure size 1080x288 with 1 Axes>"
      ]
     },
     "metadata": {
      "needs_background": "light"
     },
     "output_type": "display_data"
    }
   ],
   "source": [
    "#looking for posible correlations\n",
    "\n",
    "plt.figure(figsize=(15,4))\n",
    "df.corr()['Satisfaction'].sort_values(ascending=False).plot(kind='bar')"
   ]
  },
  {
   "cell_type": "code",
   "execution_count": 74,
   "metadata": {},
   "outputs": [
    {
     "data": {
      "text/plain": [
       "<AxesSubplot:>"
      ]
     },
     "execution_count": 74,
     "metadata": {},
     "output_type": "execute_result"
    },
    {
     "data": {
      "image/png": "[encoded data removed]",
      "text/plain": [
       "<Figure size 576x576 with 2 Axes>"
      ]
     },
     "metadata": {
      "needs_background": "light"
     },
     "output_type": "display_data"
    }
   ],
   "source": [
    "plt.figure(figsize=(8,8))\n",
    "sns.heatmap(df.corr(), cmap='YlGnBu')\n"
   ]
  },
  {
   "cell_type": "code",
   "execution_count": 54,
   "metadata": {},
   "outputs": [
    {
     "data": {
      "text/plain": [
       "<AxesSubplot:xlabel='Satisfaction', ylabel='daysOpen'>"
      ]
     },
     "execution_count": 54,
     "metadata": {},
     "output_type": "execute_result"
    },
    {
     "data": {
      "image/png": "[encoded data removed]",
      "text/plain": [
       "<Figure size 1080x288 with 1 Axes>"
      ]
     },
     "metadata": {
      "needs_background": "light"
     },
     "output_type": "display_data"
    }
   ],
   "source": [
    "plt.figure(figsize=(15,4))\n",
    "sns.boxplot(x='Satisfaction',y='daysOpen',data=df)\n",
    "\n",
    "#There's some low satisfaction even with less days of open ticket. Let's check."
   ]
  },
  {
   "cell_type": "code",
   "execution_count": 71,
   "metadata": {},
   "outputs": [
    {
     "data": {
      "text/plain": [
       "<AxesSubplot:xlabel='daysOpen', ylabel='Satisfaction'>"
      ]
     },
     "execution_count": 71,
     "metadata": {},
     "output_type": "execute_result"
    },
    {
     "data": {
      "image/png": "[encoded data removed]",
      "text/plain": [
       "<Figure size 1080x288 with 1 Axes>"
      ]
     },
     "metadata": {
      "needs_background": "light"
     },
     "output_type": "display_data"
    }
   ],
   "source": [
    "plt.figure(figsize=(15,4))\n",
    "sns.barplot(x='daysOpen',y='Satisfaction',data=df)"
   ]
  },
  {
   "cell_type": "code",
   "execution_count": 56,
   "metadata": {},
   "outputs": [
    {
     "data": {
      "text/plain": [
       "<AxesSubplot:xlabel='Satisfaction', ylabel='Severity'>"
      ]
     },
     "execution_count": 56,
     "metadata": {},
     "output_type": "execute_result"
    },
    {
     "data": {
      "image/png": "[encoded data removed]",
      "text/plain": [
       "<Figure size 1080x288 with 1 Axes>"
      ]
     },
     "metadata": {
      "needs_background": "light"
     },
     "output_type": "display_data"
    }
   ],
   "source": [
    "plt.figure(figsize=(15,4))\n",
    "sns.barplot(x='Satisfaction',y='Severity',data=df)\n",
    "\n",
    "#There's low satisfaction with Minor Severity. Let's look inside it\n",
    "#On the opposity way, there's high satisfaction when it's a Major or Critical Severity"
   ]
  },
  {
   "cell_type": "code",
   "execution_count": 77,
   "metadata": {},
   "outputs": [
    {
     "data": {
      "text/plain": [
       "<AxesSubplot:xlabel='Satisfaction', ylabel='Priority'>"
      ]
     },
     "execution_count": 77,
     "metadata": {},
     "output_type": "execute_result"
    },
    {
     "data": {
      "image/png": "[encoded data removed]",
      "text/plain": [
       "<Figure size 1080x288 with 1 Axes>"
      ]
     },
     "metadata": {
      "needs_background": "light"
     },
     "output_type": "display_data"
    }
   ],
   "source": [
    "plt.figure(figsize=(15,4))\n",
    "sns.barplot(x='Satisfaction',y='Priority',data=df)\n",
    "\n",
    "#No significant correlation"
   ]
  },
  {
   "cell_type": "markdown",
   "metadata": {},
   "source": [
    "# Conclusion\n",
    "\n",
    "There's just a low correlation between Satisfation and Severity of the case. \n",
    "\n",
    "**Assumption:*** when it's a more difficult case and it's solved, probably, the requester get more satisfied. \n",
    "\n",
    "*an important data that we don't have in this dataset is if the case was solved. So, it's just an assumption and will need more data to explain posible attributes correlations with Satisfaction.\n",
    "\n",
    "There's not enough correlation to construct a predictive ML. Let's use a Looker dashboard to see the data another way for posible insights."
   ]
  },
  {
   "cell_type": "markdown",
   "metadata": {},
   "source": []
  }
 ],
 "metadata": {
  "kernelspec": {
   "display_name": "Python 3.9.12 ('base')",
   "language": "python",
   "name": "python3"
  },
  "language_info": {
   "codemirror_mode": {
    "name": "ipython",
    "version": 3
   },
   "file_extension": ".py",
   "mimetype": "text/x-python",
   "name": "python",
   "nbconvert_exporter": "python",
   "pygments_lexer": "ipython3",
   "version": "3.9.12"
  },
  "orig_nbformat": 4,
  "vscode": {
   "interpreter": {
    "hash": "f08154012ddadd8e950e6e9e035c7a7b32c136e7647e9b7c77e02eb723a8bedb"
   }
  }
 },
 "nbformat": 4,
 "nbformat_minor": 2
}
